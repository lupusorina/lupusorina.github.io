{
 "cells": [
  {
   "cell_type": "markdown",
   "metadata": {},
   "source": [
    "## Spectral Normalization\n",
    "\n",
    "We will prove the following theorem:\n",
    "\n",
    "**Theorem**: If the weights of a DNN are spectrally normalized [1, 2], then the function is Lipschitz continuous.\n",
    "\n",
    "For this proof, we will start step by step, from a simple case first.\n",
    "\n",
    "Let $f(x) = relu(wx + b)$, where $f: \\mathbb{R} \\rightarrow \\mathbb{R}$, $w \\in \\mathbb{R}$, $b \\in \\mathbb{R}$, and $relu(x) = \\max(0, x)$ is the activation function. We will prove that $f$ is Lipschitz continuous.\n",
    "\n",
    "By definition, $w_{sn} = \\frac{w}{\\sigma(w)}$ is the spectrally normalized weight, where $\\sigma(w)$ is the largest singular value of $w$.\n",
    "\n",
    "Let's assume no activation function. Then \n",
    "\n",
    "\\begin{equation}\n",
    "|f(x_1) - f(x_2)| = |w_{sn}(x_1 - x_2)| = |w_{sn}||x_1 - x_2|\n",
    "\\end{equation}\n",
    "\n",
    "Thus, $f$ is Lipschitz continuous with constant $|w_{sn}|$.\n"
   ]
  },
  {
   "cell_type": "markdown",
   "metadata": {},
   "source": [
    "**References**\n",
    "\n",
    "[1] https://pytorch.org/docs/stable/generated/torch.nn.utils.spectral_norm.html\n",
    "\n",
    "[2] T. Miyato, T. Kataoka, M. Koyama, Y. Yoshida, ``Spectral Normalization for Generative Adversarial Networks\", https://arxiv.org/abs/1802.05957"
   ]
  },
  {
   "cell_type": "markdown",
   "metadata": {},
   "source": []
  }
 ],
 "metadata": {
  "kernelspec": {
   "display_name": "dino",
   "language": "python",
   "name": "python3"
  },
  "language_info": {
   "codemirror_mode": {
    "name": "ipython",
    "version": 3
   },
   "file_extension": ".py",
   "mimetype": "text/x-python",
   "name": "python",
   "nbconvert_exporter": "python",
   "pygments_lexer": "ipython3",
   "version": "undefined.undefined.undefined"
  }
 },
 "nbformat": 4,
 "nbformat_minor": 2
}
