{
 "cells": [
  {
   "cell_type": "markdown",
   "metadata": {},
   "source": [
    "### H Infinity Filter (also known as the minimax filter)\n",
    "\n",
    "\n",
    "While Kalman Filters are widely used in many applications, such as robotics, H Infinity filters are less commonly used. The H Infinity filter is a type of robust filter that can handle modeling errors and noise uncertainty. In this post, I will explain the H Infinity filter and give some example codes.\n",
    "\n",
    "The H Infinity filter minimizes the worst-case estimation error. We will derive below its form.\n",
    "\n"
   ]
  },
  {
   "cell_type": "markdown",
   "metadata": {},
   "source": [
    "**References:**\n",
    "\n",
    "[1] \"Optimal State Estimation: Kalman, H Infinity, and Nonlinear Approaches, Dan Simon, 2006\"\n"
   ]
  },
  {
   "cell_type": "markdown",
   "metadata": {},
   "source": []
  }
 ],
 "metadata": {
  "kernelspec": {
   "display_name": "dino",
   "language": "python",
   "name": "python3"
  },
  "language_info": {
   "name": "python",
   "version": "3.8.18"
  }
 },
 "nbformat": 4,
 "nbformat_minor": 2
}
